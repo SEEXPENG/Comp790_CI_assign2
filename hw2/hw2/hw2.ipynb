{
 "cells": [
  {
   "cell_type": "code",
   "execution_count": 1,
   "metadata": {},
   "outputs": [],
   "source": [
    "import torch\n",
    "from torch.nn import functional as F\n",
    "import cv2\n",
    "import numpy as np\n",
    "from pathlib import Path\n",
    "from natsort import natsorted\n",
    "import matplotlib.pyplot as plt\n",
    "from typing import Literal"
   ]
  },
  {
   "cell_type": "markdown",
   "metadata": {},
   "source": [
    "#### Develop RAW images\n",
    "```bash\n",
    "dcraw -q 3 -4 -T -o 1 data/door_stack/*.nef\n",
    "```"
   ]
  },
  {
   "cell_type": "markdown",
   "metadata": {},
   "source": [
    "#### Linearize rendered images"
   ]
  },
  {
   "cell_type": "code",
   "execution_count": 3,
   "metadata": {},
   "outputs": [],
   "source": [
    "image_paths = natsorted(Path('data/door_stack').glob('*.jpg'))\n",
    "num_images = len(image_paths)\n",
    "height, width = cv2.imread(str(image_paths[0]), cv2.IMREAD_UNCHANGED).shape[:2]\n",
    "channel = 3\n",
    "selected_index = torch.randperm(height * width)[:50].numpy().tolist()\n",
    "selected_pixels = [cv2.cvtColor(cv2.imread(str(p), cv2.IMREAD_UNCHANGED), cv2.COLOR_BGR2RGB).reshape(-1, channel)[selected_index].flatten() for p in image_paths]\n",
    "selected_pixels = np.stack(selected_pixels, axis=0).flatten()"
   ]
  },
  {
   "cell_type": "code",
   "execution_count": 4,
   "metadata": {},
   "outputs": [],
   "source": [
    "exposure_times = np.arange(1, num_images + 1)\n",
    "exposure_times = 2 ** (exposure_times - 1)/2048"
   ]
  },
  {
   "cell_type": "code",
   "execution_count": 5,
   "metadata": {},
   "outputs": [],
   "source": [
    "z_min = 0.05\n",
    "z_max = 0.95\n",
    "def w_uniform(z, *_):\n",
    "    return torch.where(torch.logical_and(z >= z_min, z <= z_max), 1, 0)\n",
    "def w_tent(z, *_):\n",
    "    return torch.where(torch.logical_and(z >= z_min, z <= z_max), torch.min(z, 1 - z), 0)\n",
    "def w_gaussian(z, *_):\n",
    "    return torch.where(torch.logical_and(z >= z_min, z <= z_max), torch.exp(-4*(z - 0.5)**2/0.5**2), 0)\n",
    "def w_photon(z,t):\n",
    "    return torch.where(torch.logical_and(z >= z_min, z <= z_max), t, 0)"
   ]
  },
  {
   "cell_type": "code",
   "execution_count": 6,
   "metadata": {},
   "outputs": [],
   "source": [
    "\n",
    "w_functions = {\n",
    "    'uniform': w_uniform,\n",
    "    'tent': w_tent,\n",
    "    'gaussian': w_gaussian,\n",
    "    'photon': w_photon\n",
    "}\n",
    "\n",
    "\n",
    "def construct_Ab(image_tensor_flatten:torch.Tensor, # K*N*C\n",
    "                 exposure_times:torch.Tensor, # K\n",
    "                 lamb:float, \n",
    "                 w_method=Literal['uniform', 'tent', 'gaussian', 'photon']):\n",
    "    num_elements = image_tensor_flatten.numel()\n",
    "    k = exposure_times.numel()\n",
    "    nxc = num_elements // k\n",
    "    image_tensor_one_hot = F.one_hot(image_tensor_flatten, num_classes=256) # (K*N*C)x256\n",
    "\n",
    "    image_indexs = torch.arange(nxc).long() # N*C\n",
    "    image_indexs = image_indexs.unsqueeze(0).repeat(k, 1).view(-1) # K*N*C\n",
    "    image_indexs_one_hot = F.one_hot(image_indexs, num_classes=nxc) # (K*N*C)x(N*C)\n",
    "    w_pixels = w_functions[w_method](image_tensor_flatten.float()/255, exposure_times.unsqueeze(1).repeat(1, nxc).view(-1)) # K*N*C\n",
    "\n",
    "    A1 = image_tensor_one_hot * w_pixels.unsqueeze(1) # (K*N*C)x256\n",
    "    A2 = image_indexs_one_hot * -w_pixels.unsqueeze(1) # (K*N*C)x(N*C)\n",
    "    A12 = torch.cat((A1, A2), dim=1) # (K*N*C)x(256+N*C)\n",
    "\n",
    "    b = w_pixels * exposure_times.unsqueeze(1).repeat(1, nxc).view(-1) # K*N*C\n",
    "    b = torch.cat((b, torch.zeros(256)), dim=0) # (K*N*C+256)\n",
    "\n",
    "\n",
    "    rolling_matrix = torch.zeros((256, 256+2), dtype=torch.float32) # 256x258\n",
    "\n",
    "    # Pattern to roll\n",
    "    pattern = torch.tensor([1.0, -2.0, 1.0])\n",
    "\n",
    "    # Fill the matrix with the rolling pattern\n",
    "    for i in range(256):\n",
    "        rolling_matrix[i, i:i+3] = pattern\n",
    "\n",
    "    rolling_matrix = rolling_matrix[:, 1:-1] # 256x256\n",
    "\n",
    "    zeros_matrix = torch.zeros((256, nxc), dtype=torch.float32) # 256x(N*C)\n",
    "\n",
    "    z = torch.arange(256).float() # 256\n",
    "    w_z = w_functions[w_method](z/255) if w_method != 'photon' else 1 # 256\n",
    "    w_z = w_z * lamb # 256\n",
    "    \n",
    "    A3 = rolling_matrix * w_z.unsqueeze(1) # 256x256\n",
    "    A4 = zeros_matrix\n",
    "    A34 = torch.cat((A3, A4), dim=1) # 256x(256+N*C)\n",
    "\n",
    "    A = torch.cat((A12, A34), dim=0) # A((K*N*C+256)x(256+N*C)) @v(256+N*C) + b(K*N*C+256)\n",
    "\n",
    "    return A, b"
   ]
  },
  {
   "cell_type": "code",
   "execution_count": 12,
   "metadata": {},
   "outputs": [],
   "source": [
    "method = 'gaussian'\n",
    "lamb = 0.1\n",
    "\n",
    "A, b = construct_Ab(\n",
    "    torch.tensor(selected_pixels).long(), # K*N*C\n",
    "    torch.tensor(exposure_times).float(), # K\n",
    "    lamb, \n",
    "    w_method=method\n",
    ")"
   ]
  },
  {
   "cell_type": "code",
   "execution_count": 13,
   "metadata": {},
   "outputs": [],
   "source": [
    "v = torch.linalg.lstsq(A, b, rcond=None)[0] # (256+N*C)"
   ]
  },
  {
   "cell_type": "code",
   "execution_count": null,
   "metadata": {},
   "outputs": [],
   "source": []
  }
 ],
 "metadata": {
  "kernelspec": {
   "display_name": "pytorch",
   "language": "python",
   "name": "python3"
  },
  "language_info": {
   "codemirror_mode": {
    "name": "ipython",
    "version": 3
   },
   "file_extension": ".py",
   "mimetype": "text/x-python",
   "name": "python",
   "nbconvert_exporter": "python",
   "pygments_lexer": "ipython3",
   "version": "3.8.16"
  }
 },
 "nbformat": 4,
 "nbformat_minor": 2
}
